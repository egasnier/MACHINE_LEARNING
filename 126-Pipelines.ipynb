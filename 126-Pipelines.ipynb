{
 "cells": [
  {
   "cell_type": "markdown",
   "id": "cc956809-7cd8-475c-89d5-cbec7f3fc1c3",
   "metadata": {},
   "source": [
    "# Pipelines avec Scikit-learn \n",
    "## Les Transformeurs et Estimateurs\n",
    "### Introduction et pré-requis\n",
    "Le package scikit-learn met à notre disposition une librairie de transformeurs qui nous permettent de nettoyer, réduire, augmenter et générer de nouveaux features sur une base de données.\n",
    "\n",
    "Les transformeurs sont en général combinés avec un modèle afin de créer un **modèle dit composite**.    \n",
    "\n",
    "L'objet **Pipeline ('canalisation' en français)** de scikit-learn nous permet d'enchaîner plusieurs transformations dans un seul objet qui remplit de multiples fonctions:\n",
    "\n",
    "- **Encapsulation**: Avec un objet Pipeline, il suffit d'appeler une seule fois la méthode fit pour appliquer une série de transformations sur une base de données.\n",
    "- **Sélection de paramètres** : L'outil GridSearch peut être utilisé pour chercher les paramètres optimaux sur tous les transformeurs et modèles de la Pipeline simultanément.\n",
    "- **Isolation** : La Pipeline permet d'éviter la fuite de statistiques effectuées sur la base de test lors d'une validation croisée en garantissant que l'entraînement des transformeurs et du modèle est effectué à chaque itération de la validation croisée. Par exemple, en faisant une validation croisée classique sur une base déja normalisée, les moyennes et variances empiriques auront été calculées sur l'ensemble de la base et non sur la base d'entraînement, ce qui peut biaiser ses résultats.  \n",
    "\n",
    "Afin d'aborder les modules sur l'objet Pipeline dans les meilleures conditions, il est impératif d'avoir validé les modules de Programmation orientée objet en Python, Pandas pour la datascience et Machine learning - modèles simples de classification (Python)\n",
    "\n",
    "- **Les Estimateurs**\n",
    "La **classe Estimator** contient tous les objets de scikit-learn que nous utilisons.   \n",
    "Tous les objets de type classifieur, régresseur, algorithmes de clustering ou transformeurs qui nous permettent d'extraire des informations à partir d'une base de données héritent de la classe Estimator, qui est caractérisée par sa **méthode fit**.\n",
    "\n",
    "La **méthode fit** de la classe Estimator permet de calculer les paramètres de l'estimateur sur une base de données.   \n",
    "Ces paramètres sont ensuite stockés dans les attributs de l'instance Estimator ayant appelé la méthode.\n",
    "\n",
    "Par exemple, la méthode fit de la sous-classe LogisticRegression va calculer les coefficients d'une régression logistique tandis que la méthode fit de la sous-classe StandardScaler va calculer les moyennes et variances de chaque variable d'une base. Ces sous-classes ont des utilités différentes mais sont toutes deux héritières de la classe Estimator.\n",
    "\n",
    "- **Les Transformeurs**\n",
    "Les transformeurs forment une **sous-classe** des objets de type **Estimator**.   \n",
    "Ils sont caractérisés par leurs méthodes **fit et transform**. Ils sont aussi munis d'une méthode fit_transform qui fait appel aux deux méthodes l'une après l'autre.\n",
    "\n",
    "La **méthode fit sert à calculer les paramètres de la transformation**. Par exemple, pour normaliser les données, on utilise le transformeur StandardScaler.   \n",
    "La méthode fit de StandardScaler va calculer la moyenne empirique  μ  et l'écart-type empirique  σ  de chaque variable de la base de données, puis les stocker dans les attributs de l'instance StandardScaler qui a appelé la méthode.\n",
    "\n",
    "Si la base contient  n  individus et  d  variables, la méthode transform va effectuer la transformation suivante:\n",
    "\n",
    "∀1≤i≤n,∀1≤j≤d, \n",
    "Xji ⟼ (Xji−μj)/ σj\n",
    "\n",
    "Pour être un transformeur, une classe doit impérativement avoir une méthode transform. Cette nuance sera importante lorsque les objets Pipeline seront introduits.\n",
    "\n",
    "- Importer la classe StandardScaler contenue dans le sous-module sklearn.preprocessing.\n",
    "- Importer la fonction rand contenue dans le sous-module numpy.random.\n",
    "- Créer une matrice aléatoire de dimensions 3 x 4 grâce à la fonction rand et la stocker dans une variable X.\n",
    "- Instancier un objet de type StandardScaler et le nommer scaler.\n",
    "- Lancer la méthode fit de scaler sur la matrice X.\n",
    "\n",
    "- En utilisant la **commande dir** qui liste tous les attributs d'un objet, trouver le nom des attributs qui contiennent le vecteur des moyennes et le vecteur des variances des colonnes de X.\n",
    "- Lancer la méthode transform de scaler sur X et stocker le résultat de la méthode dans une variable Y."
   ]
  },
  {
   "cell_type": "code",
   "execution_count": 2,
   "id": "0d53350b-1175-400d-83bb-180803d83b4a",
   "metadata": {},
   "outputs": [
    {
     "data": {
      "text/plain": [
       "StandardScaler()"
      ]
     },
     "execution_count": 2,
     "metadata": {},
     "output_type": "execute_result"
    }
   ],
   "source": [
    "from sklearn.preprocessing import StandardScaler \n",
    "from numpy.random import rand\n",
    "\n",
    "X = rand(3, 4)                 # création d'une matrice aléatoire 3 x 4.\n",
    "scaler = StandardScaler()      # instanciation du transformeur StandardScaler.\n",
    "\n",
    "scaler.fit(X)                  # Calcul des espérances et écarts-types des colonnes de X et stockage dans l'objet scaler. pas de transformation à ce stade !"
   ]
  },
  {
   "cell_type": "code",
   "execution_count": 3,
   "id": "12f89c65-ee87-481e-adf9-e34c2ae8522f",
   "metadata": {},
   "outputs": [
    {
     "data": {
      "text/plain": [
       "['__class__',\n",
       " '__delattr__',\n",
       " '__dict__',\n",
       " '__dir__',\n",
       " '__doc__',\n",
       " '__eq__',\n",
       " '__format__',\n",
       " '__ge__',\n",
       " '__getattribute__',\n",
       " '__getstate__',\n",
       " '__gt__',\n",
       " '__hash__',\n",
       " '__init__',\n",
       " '__init_subclass__',\n",
       " '__le__',\n",
       " '__lt__',\n",
       " '__module__',\n",
       " '__ne__',\n",
       " '__new__',\n",
       " '__reduce__',\n",
       " '__reduce_ex__',\n",
       " '__repr__',\n",
       " '__setattr__',\n",
       " '__setstate__',\n",
       " '__sizeof__',\n",
       " '__str__',\n",
       " '__subclasshook__',\n",
       " '__weakref__',\n",
       " '_check_feature_names',\n",
       " '_check_n_features',\n",
       " '_get_param_names',\n",
       " '_get_tags',\n",
       " '_more_tags',\n",
       " '_repr_html_',\n",
       " '_repr_html_inner',\n",
       " '_repr_mimebundle_',\n",
       " '_reset',\n",
       " '_validate_data',\n",
       " 'copy',\n",
       " 'fit',\n",
       " 'fit_transform',\n",
       " 'get_feature_names_out',\n",
       " 'get_params',\n",
       " 'inverse_transform',\n",
       " 'mean_',\n",
       " 'n_features_in_',\n",
       " 'n_samples_seen_',\n",
       " 'partial_fit',\n",
       " 'scale_',\n",
       " 'set_params',\n",
       " 'transform',\n",
       " 'var_',\n",
       " 'with_mean',\n",
       " 'with_std']"
      ]
     },
     "execution_count": 3,
     "metadata": {},
     "output_type": "execute_result"
    }
   ],
   "source": [
    "dir(scaler)                    # Affichage des attributs de scaler."
   ]
  },
  {
   "cell_type": "code",
   "execution_count": 4,
   "id": "707b7de0-4270-46d5-ae75-555081f407a2",
   "metadata": {},
   "outputs": [],
   "source": [
    "Y = scaler.transform(X)        # Réduction et centrage de X."
   ]
  },
  {
   "cell_type": "markdown",
   "id": "f277d2f2-599d-486d-8f68-47691bf400fe",
   "metadata": {},
   "source": [
    "Il faut **toujours lancer la méthode fit** d'un transformeur **au moins une fois* avant de pouvoir utiliser sa méthode transform.   \n",
    "\n",
    "Dans le doute, utiliser la méthode **fit_transform** recalculera les paramètres de la transformation et appliquera ensuite la transformation.   \n",
    "\n",
    "Utiliser fit_transform peut néanmoins être coûteux sur de grandes bases de données.  \n",
    "\n",
    "- Instancier un deuxième objet StandardScaler et le nommer scaler2.\n",
    "- Appliquer la méthode fit de scaler2 sur Y et afficher les vecteurs des moyennes et variances des colonnes de Y stockées dans scaler2. \n",
    "- D'où vient ce résultat?"
   ]
  },
  {
   "cell_type": "code",
   "execution_count": 5,
   "id": "f9ab8708-20aa-4cfd-980d-bb0049bb4c39",
   "metadata": {},
   "outputs": [
    {
     "name": "stdout",
     "output_type": "stream",
     "text": [
      "[ 4.07081776e-16 -3.25665421e-15  2.22044605e-16  0.00000000e+00]\n",
      "[1. 1. 1. 1.]\n"
     ]
    }
   ],
   "source": [
    "scaler2 = StandardScaler()\n",
    "\n",
    "scaler2.fit(Y)\n",
    "\n",
    "print(scaler2.mean_)\n",
    "print(scaler2.var_)\n",
    "\n",
    "# Lorsqu'une matrice a été normalisée, la moyenne de chacune de ses colonnes est 0 (Centrage) \n",
    "# et leur écart-type est 1 (Réduction). \n",
    "\n",
    "# Si chaque colonne correspond à une variable d'une base de données,\n",
    "# la normalisation permet de mettre toutes les variables à la même échelle et plus facilement comparer leurs distributions."
   ]
  },
  {
   "cell_type": "markdown",
   "id": "f77dee10-5cf2-43b5-bccf-3e927d983c87",
   "metadata": {},
   "source": [
    "Les transformeurs tels que StandardScaler, OneHotEncoder ou PolynomialFeatures sont des sous-classes de la classe base TransformerMixin. Cette classe ne contient que la méthode fit_transform. Toutes les sous-classes de TransformerMixin doivent impérativement définir les méthodes __init__, fit et transform afin de les utiliser comme des transformeurs.\n",
    "\n",
    "   Les Mixins sont un type de classe particulier propre à Python et aux languages où il est possible de créer des classes qui héritent de plusieurs classes mères. Un Mixin contient en général des méthodes destinées à être utilisées par d'autres classes et n'est pas destiné à être utilisé seul.\n",
    "Rappel sur l'inversion de matrices 2x2:\n",
    "\n",
    "Soit  A = ( (a b) , (c d) )\n",
    "        \n",
    "On définit  detA = ad−bc  le déterminant de la matrice A.\n",
    "\n",
    "Si  detA ≠ 0 , l'inverse de la matrice A se calcule ainsi :\n"
   ]
  },
  {
   "attachments": {
    "82d1b417-7de0-4d41-adc5-62860956e5e0.png": {
     "image/png": "[encoded data removed]"
    }
   },
   "cell_type": "markdown",
   "id": "39563c70-f373-4a9b-86d8-0cc0e0bfc14a",
   "metadata": {},
   "source": [
    "![matrice inverse.png](attachment:82d1b417-7de0-4d41-adc5-62860956e5e0.png)"
   ]
  },
  {
   "cell_type": "markdown",
   "id": "92ffbbfa-283b-43ab-8fee-d65b127e6b46",
   "metadata": {},
   "source": [
    "- Importer la classe TransformerMixin contenue dans le sous-module sklearn.base.\n",
    "- Définir une classe Inverseur2x2 de la manière suivante:\n",
    "    - Inverseur2x2 hérite de la classe TransformerMixin.\n",
    "    - Sa méthode init ne prends pas d'arguments et initialise l'attribut det à 0.\n",
    "    - Sa méthode fit calcule le déterminant d'une matrice 2x2 passée en paramètre et la stocke dans l'attribut det. Cette méthode doit retourner l'instance appelant la méthode.\n",
    "    - Sa méthode transform retournera l'inverse de la matrice mais ne doit pas modifier la matrice d'origine.   \n",
    "    \n",
    "- Instanciez un objet Inverseur2x2 et le nommer inverseur.\n",
    "- Créer une matrice aléatoire de dimensions 2 x 2 grâce à la fonction rand et la stocker dans une variable X.\n",
    "- Calculer la matrice inverse de X grâce au transformeur inverseur.\n",
    "\n",
    "Attention :   \n",
    "   La méthode transform des transformeurs destinés à être utilisés dans une Pipeline **ne doivent jamais modifier la matrice passée en argument** et doivent absolument **retourner la transformation**.   \n",
    "   Ceci est important car dans une Pipeline l'argument passé dans un transformeur est l'output du transformeur précédent et non la matrice d'origine.     \n",
    "- De plus, la méthode fit doit impérativement retourner l'instance qui a appelé la méthode pour pouvoir utiliser la méthode fit_transform. Ceci est dû au fait que l'instruction transformer.fit_transform(X) revient à lancer l'instruction transformer.fit(X).transform(X)."
   ]
  },
  {
   "cell_type": "markdown",
   "id": "728b9190-beae-40db-a028-8322d5562f18",
   "metadata": {},
   "source": [
    "## La classe FeatureUnion\n",
    "La classe FeatureUnion permet de combiner plusieurs transformeurs en un transformeur qui concatène leurs outputs.   \n",
    "\n",
    "Toutes les transformations sont effectuées en parallèle et non à la suite comme dans une Pipeline.   \n",
    "\n",
    "Les transformations sont ensuite concaténées dans la matrice que retourne la FeatureUnion.\n",
    "\n",
    "L'utilisation d'un objet FeatureUnion est identique à l'utilisation d'un transformeur.   \n",
    "\n",
    "La méthode fit(resp. transform) de FeatureUnion fait simplement appel à la méthode fit(resp. transform) de chaque transformeur.\n",
    "\n",
    "L'initialisation d'un objet FeatureUnion se fait en passant une liste de couples ('transformation', transformeur) en argument de son constructeur.\n",
    "\n",
    "    from sklearn.pipeline import FeatureUnion\n",
    "    from sklearn.preprocessing import PolynomialFeatures, StandardScaler, MinMaxScaler\n",
    "    poly = PolynomialFeatures(2)     # Calcule les features polynomiaux d'ordre 2\n",
    "    std_scaler = StandardScaler()    # Centrage et réduction\n",
    "    mm_scaler = MinMaxScaler()       # Normalisation min-max\n",
    "    union = FeatureUnion([ ('poly_features', poly),\n",
    "                           ('normalisation', std_scaler),\n",
    "                           ('minmax_scaling', mm_scaler) ])"
   ]
  },
  {
   "cell_type": "markdown",
   "id": "7945aeb3-2e0c-4e8d-ae32-5ee7a19fd62a",
   "metadata": {},
   "source": [
    "## Construction d'une Pipeline\n",
    "La construction d'un objet de type Pipeline se fait par étape.   \n",
    "Chaque étape correspond à une transformation effectuée sur l'output de la transformation précédente, la première transformation étant faite sur la base de données entrée en input de la Pipeline.\n",
    "\n",
    "Le constructeur de la classe Pipeline contient un **paramètre steps**.   \n",
    "Comme pour l'objet FeatureUnion, le paramètre steps prend en argument une liste de couples **('transformation', transformeur)**, mais effectue chaque transformation séquentiellement et non parallèlement comme FeatureUnion.  \n",
    "\n",
    "Toutes les étapes d'une Pipeline doivent être des transformeurs sauf pour la dernière qui peut être un modèle ou un transformeur.\n",
    "\n",
    "    from sklearn.pipeline import Pipeline\n",
    "    from sklearn.svm import SVC                          #Modèle : Support vector Classifier\n",
    "    from sklearn.preprocessing import StandardScaler     #Transformeur : Normalisation\n",
    "    from sklearn.preprocessing import PolynomialFeatures #Transformeur : Features polynomiaux\n",
    "    from sklearn.decomposition import PCA                #Transformeur : Analyse en Composantes Principales\n",
    "    scaler = StandardScaler()             \n",
    "    poly = PolynomialFeatures(2)\n",
    "    pca = PCA()\n",
    "    svc = SVC()\n",
    "    composite_model = Pipeline(steps = [('normalisation', scaler),#étape 1: Normalisation des données\n",
    "                                        ('poly_features', poly),  #étape 2: Calcul de features polynomiaux\n",
    "                                        ('pca', pca),             #étape 3: Analyse Composantes Principales\n",
    "                                        ('model', svc)])          #étape 4: Entraînement d'un SVC\n",
    "La type du dernier estimateur de la Pipeline définit son utilisation:\n",
    "\n",
    "Si la dernière étape est un modèle, la Pipeline doit être manipulée comme un modèle avec les méthodes fit, predict, score, etc.\n",
    "Si la dernière étape est un transformeur, la Pipeline doit être manipulée comme un transformeur avec les méthodes fit, transform et fit_transform.\n",
    "- Lancer la cellule suivante pour importer le dataset diabetes inclus dans scikit-learn."
   ]
  },
  {
   "cell_type": "code",
   "execution_count": 6,
   "id": "e04dd77b-f32e-416e-93c4-f1fa23f0959a",
   "metadata": {},
   "outputs": [],
   "source": [
    "import pandas as pd\n",
    "from sklearn.datasets import load_diabetes\n",
    "from sklearn.model_selection import train_test_split\n",
    "\n",
    "X = pd.DataFrame(load_diabetes().data)\n",
    "y = pd.DataFrame(load_diabetes().target)\n",
    "\n",
    "X_train, X_test, y_train, y_test = train_test_split(X, y, test_size = 0.2 , random_state = 1)"
   ]
  },
  {
   "cell_type": "markdown",
   "id": "9cf01d9e-c272-49f3-bff7-8e51796d5a57",
   "metadata": {},
   "source": [
    "- Importer les transformeurs StandardScaler et PolynomialFeatures depuis le sous-module sklearn.preprocessing.\n",
    "- Importer le modèle LinearRegression depuis le sous-module sklearn.linear_model.\n",
    "- Importer la classe Pipeline depuis le sous-module sklearn.pipeline."
   ]
  },
  {
   "cell_type": "code",
   "execution_count": 7,
   "id": "9b4c77c6-ef67-447b-b797-baf6ac6cb9e5",
   "metadata": {},
   "outputs": [],
   "source": [
    "from sklearn.preprocessing import StandardScaler, PolynomialFeatures\n",
    "from sklearn.linear_model import LinearRegression\n",
    "from sklearn.pipeline import Pipeline"
   ]
  },
  {
   "cell_type": "markdown",
   "id": "2780a9f5-5875-4469-8dd3-b84f6e546a58",
   "metadata": {},
   "source": [
    "- Instancier un transformeur StandardScaler et le nommer scaler.\n",
    "- Instancier un transformeur PolynomialFeatures qui devra calculer des features polynomiaux d'ordre 2 et le nommer poly.\n",
    "- Instancier un modèle LinearRegression avec ses paramètres par défaut et le nommer linreg.\n",
    "\n",
    "Créer une Pipeline nommée linreg_pipe à 3 étapes:\n",
    "- 1 : Normalisation des données.\n",
    "- 2 : Calcul des features polynomiaux.\n",
    "- 3 : Entraînement d'un modèle de régression linéaire.  \n",
    "\n",
    "Entraîner linreg_pipe sur X_train et y_train et comparer son score sur X_test et y_test à celui d'une régression linéaire classique."
   ]
  },
  {
   "cell_type": "code",
   "execution_count": 8,
   "id": "b347ac97-2630-4d3f-8cb6-40e96ffbe9fa",
   "metadata": {},
   "outputs": [
    {
     "name": "stdout",
     "output_type": "stream",
     "text": [
      "le score de la pipeline est:  0.22363432889108492\n",
      "le score de la régression linéaire classique est: 0.4384360401733268\n"
     ]
    }
   ],
   "source": [
    "scaler = StandardScaler()          # Transformeur : Normalisation\n",
    "poly = PolynomialFeatures(2)       # Transformeur : Features polynomiaux\n",
    "linreg = LinearRegression()        # Modèle : Régression linéaire\n",
    "\n",
    "\n",
    "linreg_pipe = Pipeline(steps = [('normalization', scaler),            # Etape 1 : Normalisation\n",
    "                                 ('poly_features', poly),             # Etape 2 : Calcul features polynomiaux\n",
    "                                 ('linear_regression', linreg)])      # Etape 3 : Régression Linéaire\n",
    "    \n",
    "linreg_pipe.fit(X_train, y_train)                # Entrainement de la Pipeline\n",
    "\n",
    "score_pipe = linreg_pipe.score(X_test, y_test)\n",
    "\n",
    "linreg.fit(X_train, y_train)                     # Entrainement d'une régression linéaire classique avec paramètres par défaut\n",
    "score_classique = linreg.score(X_test, y_test)\n",
    "\n",
    "print(\"le score de la pipeline est: \", score_pipe)\n",
    "print(\"le score de la régression linéaire classique est:\", score_classique)"
   ]
  },
  {
   "cell_type": "markdown",
   "id": "a28a07db-062b-4aea-abee-d3f106a02952",
   "metadata": {},
   "source": [
    "Recherche des paramètres optimaux d'une Pipeline\n",
    "Comme pour un modèle scikit-learn classique, l'outil GridSearchCV peut être utilisé avec une Pipeline pour trouver ses paramètres optimaux.\n",
    "\n",
    "L'utilisation de l'outil GridSearchCV sur un modèle classique se fait comme suit:\n",
    "\n",
    "    from sklearn.model_selection import GridSearchCV\n",
    "    from sklearn.linear_model import Ridge            # Ridge = Régression Linéaire avec pénalité L²\n",
    "    import numpy as np\n",
    "    ridge = Ridge()\n",
    "    parameters = { 'alpha' :  np.logspace(-5, 4, 50),  # recherche du alpha optimal entre 10^-5 et 10^4\n",
    "                   'fit_intercept' : [True, False]}\n",
    "    grid_search = GridSearchCV(estimator = ridge, param_grid = parameters, cv = 5, iid = True)\n",
    "    grid_search.fit(X, y, cv = 10, iid = True)\n",
    "\n",
    "\n",
    "Pour utiliser GridSearchCV avec une Pipeline, la définition de la grille des paramètres à tester doit se faire différement. On définit la Pipeline suivante :\n",
    "\n",
    "    from sklearn.pipeline import Pipeline\n",
    "    from sklearn.preprocessing import StandardScaler, PolynomialFeatures\n",
    "    from sklearn.linear_model import Ridge\n",
    "    scaler = StandardScaler()\n",
    "    poly = PolynomialFeatures()\n",
    "    ridge = Ridge()\n",
    "    ridge_pipe = Pipeline( steps = [ ( 'normalization', scaler),    # Etape 1: Normalisation\n",
    "                                     ( 'poly_features', poly),      # Etape 2: Calcul features polynomiaux\n",
    "                                     ( 'ridge_regression', ridge)]) # Etape 3: Régression Ridge\n",
    "\n",
    "\n",
    "Pour indiquer à l'outil GridSearchCV où trouver le paramètre à faire varier, le nom des paramètres doit être précédé par le nom de l'étape en séparant les deux noms par un double underscore '__':\n",
    "\n",
    "\n",
    "   parameters = {'normalization__with_mean' : [True, False], #Param 'with_mean' de l'étape 'normalization' \n",
    "                  'normalization__with_std' : [True, False],  #Param 'with_std' de l'étape 'normalization'\n",
    "                  'poly_features__degree' : [2, 3],           #Param 'degree' de l'étape 'poly_features'\n",
    "                  'ridge_regression__alpha': np.logspace(-5, 4, 10)}\n",
    "- Lancer la cellule suivante pour importer le dataset digits inclus dans scikit-learn."
   ]
  },
  {
   "cell_type": "code",
   "execution_count": null,
   "id": "376e6400-33ab-4b41-880c-3de60a557985",
   "metadata": {},
   "outputs": [],
   "source": [
    "import pandas as pd\n",
    "from sklearn.datasets import load_digits\n",
    "from sklearn.model_selection import train_test_split\n",
    "import numpy as np\n",
    "\n",
    "X = pd.DataFrame(load_digits().data)\n",
    "y = load_digits().target"
   ]
  },
  {
   "cell_type": "markdown",
   "id": "6e9ec35c-bcc5-4f85-99b4-0e565689f3e0",
   "metadata": {},
   "source": [
    "- Importer le transformeur StandardScaler depuis le sous-module sklearn.preprocessing.\n",
    "- Importer le transformeur SelectKBest depuis le sous-module sklearn.feature_selection.\n",
    "- Importer le modèle SVC depuis le sous-module sklearn.svm.\n",
    "- Importer la classe Pipeline depuis le sous-module sklearn.pipeline.\n",
    "- Importer la classe GridSearchCV depuis le sous-module sklearn.model_selection."
   ]
  },
  {
   "cell_type": "markdown",
   "id": "80023b37-373b-46e9-8537-6103bd4faf2a",
   "metadata": {},
   "source": [
    "- Instancier un transformeur StandardScaler et le nommer scaler.\n",
    "- Instancier un transformeur SelectKBest et le nommer selector.\n",
    "- Instancier un transformeur SVC et le nommer svc.\n",
    "\n",
    "- Créer une Pipeline nommée svc_pipe à 3 étapes:\n",
    "   - 1 : Normalisation des données.\n",
    "   - 2 : Sélection des k meilleures variables.\n",
    "   - 3 : Entraînement d'un modèle de classification par SVM.  \n",
    "   \n",
    "- Définir une grille de paramètres nommée params telle qu'on puisse tester le modèle SVC avec les 10, 20, 30, 40, 50, 64 meilleures variables et un noyau linéaire, polynomial et gaussien.   \n",
    "Pour cela on rappelle que:\n",
    "\n",
    "Le paramètre k de SelectKBest permet de définir le nombre de variables à sélectionner. Ce paramètre peut être un entier ou 'all' pour séléctionner toutes les variables.\n",
    "\n",
    "le paramètre kernel de SVC peut prendre les valeurs 'linear', 'poly' et 'rbf' pour utiliser un noyau linéaire, polynomial ou gaussien."
   ]
  },
  {
   "cell_type": "code",
   "execution_count": null,
   "id": "1902b411-3c0a-42c0-b7f8-58f04e20e2ca",
   "metadata": {},
   "outputs": [],
   "source": [
    "scaler = StandardScaler()  # Transformeur : Normalisation\n",
    "selector = SelectKBest()   # Transformeur : Séléction de variables\n",
    "svc = SVC()                # Modèle : Support Vector Classifier\n",
    "\n",
    "svc_pipe = Pipeline([ ('scaling', scaler),       # Etape 1 : Normalisation des données\n",
    "                      ('selection', selector),   # Etape 2 : Sélection des k meilleures variables\n",
    "                      ('model', svc)])           # Etape 3 : Entrainement d'un modèle SVC\n",
    "\n",
    "param_grid = {\n",
    "    'selection__k' : [10, 20, 30, 40, 50, 'all'],  # On teste avec 10, 20, ... , 50 et toutes les variables de X\n",
    "    'model__kernel' : ['poly', 'linear', 'rbf']    # On teste SVC avec noyau polynomial, linéaire et gaussien\n",
    "}"
   ]
  },
  {
   "cell_type": "markdown",
   "id": "cc963fc1-dd27-4bfd-a364-3dede348693f",
   "metadata": {},
   "source": [
    "- Instancier un objet GridSearchCV nommé grid avec les arguments suivants:\n",
    "   - estimator = svc_pipe.\n",
    "   - param_grid = params.\n",
    "   - cv = 5.\n",
    "   - iid = True.  \n",
    "   \n",
    "- Entraîner grid sur X et y.\n",
    "- Afficher les meilleurs paramètres trouvés et le meilleur score obtenu grâce aux attributs bestparams et bestscore de la classe GridSearchCV."
   ]
  },
  {
   "cell_type": "code",
   "execution_count": null,
   "id": "9a2fe01c-bfd7-4585-8fec-c78d597d4c32",
   "metadata": {},
   "outputs": [],
   "source": [
    "grid = GridSearchCV(estimator = svc_pipe, param_grid = param_grid, cv = 5, iid = True) # Instanciation d'une GridSearchCV\n",
    "\n",
    "grid.fit(X,y)  # Entraînement de la GridSearchCV pour trouver les meilleurs paramètres de la pipeline.\n",
    "\n",
    "print(grid.best_params_) # Affichage des meilleurs paramètres pour la pipeline svc_pipe.\n",
    "print(grid.best_score_) # Affichage du score obtenu par validation croisée avec les meilleurs paramètres."
   ]
  },
  {
   "cell_type": "markdown",
   "id": "1df2ed8b-756e-4a1b-812f-21c8ea5fe59f",
   "metadata": {},
   "source": [
    "## Pipeline d'Estimateurs Personnalisés\n",
    "Afin d'utiliser vos propres transformeurs avec GridSearchCV, il n'est pas suffisant d'hériter uniquement TransformerMixin.   \n",
    "La classe BaseEstimator contient deux méthodes essentielles à GridSearchCV, get_params et set_params qui nous permettent d'intéragir avec les paramètres d'un estimateur.\n",
    "\n",
    "Lorsque nous définissons une grille de paramètres pour GridSearchCV, la syntaxe 'nom_etape__nom_param' que nous utilisons est ce qui permet à ces méthodes de retrouver et modifier un paramètre d'un estimateur particulier.\n",
    "\n",
    "Ces méthodes font parties de la classe BaseEstimator. Il suffit de définir un transformeur qui hérite de cette classe pour pouvoir l'utiliser avec GridSearchCV.\n",
    "\n",
    "- Importer les classes BaseEstimator et TransformerMixin depuis le sous-module sklearn.base.  \n",
    "\n",
    "Nous allons définir un transformeur ColumnBucketer qui permettra de découper une variable numérique telle que l'âge en segments de longueur uniforme afin de créer des catégories démographiques (par exemple [0, 10[, [10, 20[, [20, 30[, etc).\n",
    "\n",
    "- Définir une classe ColumnBucketer qui hérite des classes BaseEstimator et TransformerMixin. Cette classe aura trois méthodes, __init__, fit et transform, définies de la façon suivante:\n",
    "\n",
    "   - __init__: Le constructeur prend 2 arguments, column_name et bucket_size, qui seront les attributs d'une instance ColumnBucketer. column_name correspond au nom de la colonne qui devra être segmentée et    bucket_size à la longueur de chaque segment.\n",
    "\n",
    "   - fit : Prend 2 arguments, un DataFrame X et une liste y, mais ne fait rien.\n",
    "\n",
    "   - transform : Prend en argument un DataFrame X. Rajoute une colonne à X nommée column_name + \"_Bucket\" où column_name est l'attribut du ColumnBucketer. Les valeurs de cette nouvelle colonne seront calculées grâce à la formule X[self.column_name] // self.bucket_size * self.bucket_size où l'opérateur // correspond à la division entière.\n",
    "\n",
    "La méthode fit d'un transformeur destiné à être utilisé dans une Pipeline avec un modèle doit prendre en argument les features X et la variable cible y .\n",
    "\n",
    "Ceci est dû au fait que l'instruction ma_pipeline.fit(X,y) va lancer les instructions transformeur.fit(X,y) sur tous les transformeurs de la Pipeline et non transformeur.fit(X)."
   ]
  },
  {
   "cell_type": "code",
   "execution_count": null,
   "id": "84cb43f7-cb83-4765-a999-ed3278f32083",
   "metadata": {},
   "outputs": [],
   "source": [
    "from sklearn.base import BaseEstimator, TransformerMixin\n",
    "\n",
    "class ColumnBucketer(BaseEstimator, TransformerMixin):\n",
    "    # BaseEstimator contient les méthodes get_params et set_params.\n",
    "    # TransformerMixin contient la méthode fit_transform.\n",
    "    \n",
    "    def __init__(self, column_name, bucket_size):\n",
    "        self.column_name = column_name   # nom de la colonne à segmenter\n",
    "        self.bucket_size = bucket_size   # longueur de chaque segment\n",
    "        \n",
    "    def fit(self, X, y):  # Ne fait rien\n",
    "        return self\n",
    "    \n",
    "    def transform(self, X):  # Création de la nouvelle colonne \n",
    "        X[self.column_name + \"_Bucket\"] = X[self.column_name] // self.bucket_size * self.bucket_size\n",
    "        return X"
   ]
  },
  {
   "cell_type": "markdown",
   "id": "971362b2-8e0a-4a04-9946-4b7c614596c0",
   "metadata": {},
   "source": [
    "- Lancer la cellule suivante pour importer la base de données boston depuis la libraire scikit-learn"
   ]
  },
  {
   "cell_type": "code",
   "execution_count": null,
   "id": "7a0a0a86-8a0a-4f79-ad54-f2bc10e4a490",
   "metadata": {},
   "outputs": [],
   "source": [
    "from sklearn.datasets import load_boston\n",
    "import pandas as pd\n",
    "import numpy as np\n",
    "\n",
    "X = pd.DataFrame(load_boston().data, columns= load_boston().feature_names)\n",
    "y = load_boston().target\n",
    "\n",
    "import warnings\n",
    "warnings.filterwarnings('ignore')"
   ]
  },
  {
   "cell_type": "markdown",
   "id": "28740d2d-f26d-4f7e-9260-74d99111c891",
   "metadata": {},
   "source": [
    "- Définir un transformeur ColumnDrop qui hérite des classes BaseEstimator et TransformerMixin. Cette classe aura trois méthodes, __init__, fit et transform, définies de la façon suivante:\n",
    "   - __init__: Prend 1 argument column_to_drop qui correspond au nom de la colonne à enlever.\n",
    "   - fit: Prend 2 arguments, un DataFrame X et une liste y, mais ne fait rien.\n",
    "   - transform: Prend en argument DataFrame X et la retourne sans la colonne que nous voulions enlever."
   ]
  },
  {
   "cell_type": "markdown",
   "id": "2241989b-acd9-486c-8532-3d92fc926a39",
   "metadata": {},
   "source": [
    "- Importer la classe Pipeline depuis le sous-module sklearn.pipeline.\n",
    "- Importer le modèle BayesianRidge depuis le sous-module sklearn.linear_model.\n",
    "- Définir une Pipeline nommée byrdge_pipe à 5 étapes:\n",
    "- Segmentation de la variable AGE en 5 parties.\n",
    "   - Segmentation de la variable CRIM en 5 parties.\n",
    "   - Suppression de la colonne AGE.\n",
    "   - Suppression de la colonne CRIM.\n",
    "   - Entraînement d'un modèle BayesianRidge.   \n",
    "   \n",
    "La segmentation des variables pourra se faire grâce au transformeur ColumnBucketer défini précédemment."
   ]
  },
  {
   "cell_type": "code",
   "execution_count": null,
   "id": "7527be5f-4f6b-49d5-addb-2f7c92e5f340",
   "metadata": {},
   "outputs": [],
   "source": [
    "from sklearn.pipeline import Pipeline\n",
    "from sklearn.linear_model import BayesianRidge\n",
    "\n",
    "## Instanciation des transformeurs de la pipeline\n",
    "segmentation_age = ColumnBucketer(column_name = 'AGE', bucket_size = 5) \n",
    "segmentation_crim = ColumnBucketer(column_name = 'CRIM', bucket_size = 5)\n",
    "column_drop_age =  ColumnDrop(column_to_drop = 'AGE')\n",
    "column_drop_crim = ColumnDrop(column_to_drop = 'CRIM')\n",
    "\n",
    "## Instanciation du modèle\n",
    "byrdge = BayesianRidge()\n",
    "\n",
    "## Définition de la pipeline\n",
    "byrdge_pipe = Pipeline(steps = [('bucket_age', segmentation_age),  # Etape 1 : Segmentation de la colonne 'AGE'\n",
    "                                ('bucket_crim', segmentation_crim),# Etape 2 : Segmentation de la colonne 'CRIM'\n",
    "                                ('drop_age', column_drop_age),     # Etape 3 : Suppression de la colonne 'AGE'\n",
    "                                ('drop_crim', column_drop_crim),   # Etape 4 : Suppression de la colonne 'CRIM'\n",
    "                                ('model', byrdge)                  # Etape 5 : Entrainement d'un modèle BayesianRidge\n",
    "                               ])"
   ]
  },
  {
   "cell_type": "markdown",
   "id": "4ad26fad-d586-4bdd-84a1-4561884ca6fc",
   "metadata": {},
   "source": [
    "- Créer une grille de paramètres qui fera varier la longueur des segments des variables AGE et CRIM parmi les valeurs 3, 5 et 10 et fera varier les paramètres alpha_1 et alpha_2 du modèle BayesianRidge entre  10^−3  et  10^2  en 5 pas grâce à np.logspace."
   ]
  },
  {
   "cell_type": "markdown",
   "id": "a439015f-ce6a-4834-990e-c445380e8e76",
   "metadata": {},
   "source": [
    "- Importer la classe GridSearchCV depuis le sous-module sklearn.model_selection.\n",
    "- Trouver les meilleurs paramètres de la Pipeline byrdge_pipe par validation croisée sur 5 ensembles."
   ]
  },
  {
   "cell_type": "code",
   "execution_count": null,
   "id": "319fad89-22b9-4750-ae34-e78150ef780e",
   "metadata": {},
   "outputs": [],
   "source": [
    "%%time \n",
    "from sklearn.model_selection import GridSearchCV\n",
    "\n",
    "grid = GridSearchCV(byrdge_pipe, param_grid = params, cv = 5, iid = True)\n",
    "\n",
    "grid.fit(X,y)\n",
    "\n",
    "print('Le meilleur score obtenu est: ',grid.best_score_)\n",
    "print('Les meilleurs paramètres trouvés sont :',grid.best_params_)"
   ]
  },
  {
   "cell_type": "code",
   "execution_count": null,
   "id": "818a59b8-febf-4eda-96ec-d75bea64ad15",
   "metadata": {},
   "outputs": [],
   "source": []
  },
  {
   "cell_type": "code",
   "execution_count": null,
   "id": "eb7a1e23-d12d-4e71-9f65-38e69560ba0d",
   "metadata": {},
   "outputs": [],
   "source": []
  },
  {
   "cell_type": "code",
   "execution_count": null,
   "id": "8ed36b35-8562-435e-a0e9-654b29570850",
   "metadata": {},
   "outputs": [],
   "source": []
  },
  {
   "cell_type": "code",
   "execution_count": null,
   "id": "c9dde0e0-84d4-42b4-8cbf-a68d4bbc2805",
   "metadata": {},
   "outputs": [],
   "source": []
  },
  {
   "cell_type": "code",
   "execution_count": null,
   "id": "7fdf0d44-ec5c-4099-bd5c-3744ba658e1d",
   "metadata": {},
   "outputs": [],
   "source": []
  },
  {
   "cell_type": "code",
   "execution_count": null,
   "id": "438155ad-a6d1-46d0-9612-64b99bf00cfa",
   "metadata": {},
   "outputs": [],
   "source": []
  },
  {
   "cell_type": "code",
   "execution_count": null,
   "id": "8463bc13-f3dc-41ca-b45b-c60fcdc1ad6e",
   "metadata": {},
   "outputs": [],
   "source": []
  },
  {
   "cell_type": "code",
   "execution_count": null,
   "id": "308ab2cb-34de-463e-a39a-5399cc34fa1f",
   "metadata": {},
   "outputs": [],
   "source": []
  },
  {
   "cell_type": "code",
   "execution_count": null,
   "id": "a4109bba-3f60-4be4-ad62-b03e86be64c3",
   "metadata": {},
   "outputs": [],
   "source": []
  },
  {
   "cell_type": "code",
   "execution_count": null,
   "id": "3248c01d-4d46-48bc-af49-6756e35b8544",
   "metadata": {},
   "outputs": [],
   "source": []
  },
  {
   "cell_type": "code",
   "execution_count": null,
   "id": "bbd73a29-2b8a-4d61-9542-a58de0d21b7c",
   "metadata": {},
   "outputs": [],
   "source": []
  },
  {
   "cell_type": "code",
   "execution_count": null,
   "id": "10dde489-62ef-4dbf-a886-f24d2a6785e4",
   "metadata": {},
   "outputs": [],
   "source": []
  },
  {
   "cell_type": "code",
   "execution_count": null,
   "id": "26c11c4a-e30e-4ef3-8f93-86437131b5f4",
   "metadata": {},
   "outputs": [],
   "source": []
  },
  {
   "cell_type": "code",
   "execution_count": null,
   "id": "8f35b683-4a50-458f-acf9-9b5f726e75f1",
   "metadata": {},
   "outputs": [],
   "source": []
  },
  {
   "cell_type": "code",
   "execution_count": null,
   "id": "61055ae3-3aa5-4bd0-a4d9-8c7c5ecfac2d",
   "metadata": {},
   "outputs": [],
   "source": []
  },
  {
   "cell_type": "code",
   "execution_count": null,
   "id": "54031109-c59d-4c5a-914d-62c47647d4d4",
   "metadata": {},
   "outputs": [],
   "source": []
  },
  {
   "cell_type": "code",
   "execution_count": null,
   "id": "487653df-b119-49fb-91ba-b67c69aeed8f",
   "metadata": {},
   "outputs": [],
   "source": []
  },
  {
   "cell_type": "code",
   "execution_count": null,
   "id": "842e5366-19e7-4d69-96e7-28fba6556d77",
   "metadata": {},
   "outputs": [],
   "source": []
  }
 ],
 "metadata": {
  "kernelspec": {
   "display_name": "Python 3 (ipykernel)",
   "language": "python",
   "name": "python3"
  },
  "language_info": {
   "codemirror_mode": {
    "name": "ipython",
    "version": 3
   },
   "file_extension": ".py",
   "mimetype": "text/x-python",
   "name": "python",
   "nbconvert_exporter": "python",
   "pygments_lexer": "ipython3",
   "version": "3.9.13"
  }
 },
 "nbformat": 4,
 "nbformat_minor": 5
}
